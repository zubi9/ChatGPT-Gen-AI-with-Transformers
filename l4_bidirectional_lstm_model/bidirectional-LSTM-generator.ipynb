{
 "cells": [
  {
   "cell_type": "markdown",
   "metadata": {},
   "source": [
    "# Text generation with a bidirectional LSTM\n",
    "\n",
    "Today we are looking at how to use a bidirectional Long Short-Term Memory (LSTM) network to generate text. The machine learning library **Tensorflow** is used in this notebook.\n",
    "\n",
    "## What is an LSTM\n",
    "\n",
    "An LSTM (Long Short-Term Memory) network is a type of RNNs designed to handle long-term dependencies more effectively than traditional RNNs. It utilizes specialized memory cells to retain and retrieve information over extended sequences, making it ideal for tasks like text generation where understanding context is crucial. In text generation, LSTMs can learn complex patterns within variable-length sequences of text documents, resulting in more coherent and contextually relevant output compared to simpler models like Markov language models.\n"
   ]
  },
  {
   "cell_type": "markdown",
   "metadata": {},
   "source": [
    "## The implementation\n",
    "\n",
    "First we import a text tokenizer to *(drum roll)*... tokenize the text. Why do we need to do this? and what is a corpus? Answer these questions as a written documentation on the code. Print some variables for more understanding."
   ]
  },
  {
   "cell_type": "code",
   "execution_count": 2,
   "metadata": {},
   "outputs": [],
   "source": [
    "# !pip install tensorflow"
   ]
  },
  {
   "cell_type": "code",
   "execution_count": 3,
   "metadata": {},
   "outputs": [],
   "source": [
    "import warnings\n",
    "warnings.filterwarnings('ignore')"
   ]
  },
  {
   "cell_type": "code",
   "execution_count": 4,
   "metadata": {},
   "outputs": [
    {
     "name": "stdout",
     "output_type": "stream",
     "text": [
      "1202\n"
     ]
    }
   ],
   "source": [
    "from tensorflow.keras.preprocessing.text import Tokenizer\n",
    "\n",
    "\n",
    "tokenizer = Tokenizer()\n",
    "data = open(\"input.txt\", encoding=\"utf-8\").read()\n",
    "corpus = data.lower().split(\"\\n\")\n",
    "tokenizer.fit_on_texts(corpus)\n",
    "total_words = len(tokenizer.word_index)+1\n",
    "print(total_words)"
   ]
  },
  {
   "cell_type": "code",
   "execution_count": 5,
   "metadata": {},
   "outputs": [
    {
     "data": {
      "text/plain": [
       "['the attention mechanism is a vital component in artificial neural networks, particularly in the domain of deep learning and natural language processing (nlp). it enables models to focus on specific parts of input data while making predictions or generating output. initially popularized in the context of machine translation tasks, the attention mechanism has since found widespread applications in various other fields, including image captioning, speech recognition, and sentiment analysis.',\n",
       " '',\n",
       " 'at its core, the attention mechanism allows neural networks to dynamically weigh the importance of different elements within the input sequence. this weighting process enables the model to selectively attend to relevant information, effectively enhancing its ability to understand and process complex data. in the context of machine translation, for example, the attention mechanism enables the model to align source and target language sequences more accurately, resulting in improved translation quality.',\n",
       " '',\n",
       " 'one of the key advantages of the attention mechanism is its ability to handle variable-length inputs and outputs. traditional neural network architectures often struggle with sequences of varying lengths, as they require fixed-size inputs and outputs. however, the attention mechanism alleviates this limitation by allowing the model to adaptively attend to different parts of the input sequence, regardless of their lengths. as a result, it facilitates more flexible and robust modeling of sequential data.']"
      ]
     },
     "execution_count": 5,
     "metadata": {},
     "output_type": "execute_result"
    }
   ],
   "source": [
    "corpus[:5]"
   ]
  },
  {
   "cell_type": "markdown",
   "metadata": {},
   "source": [
    "## Setting up Input Data for Sequential-Pattern Learning\n",
    "\n",
    "To allow the LSTM to learn the sequential patterns and dependencies present in the text data, the input needs to be presented to the network in a form of n-gram sequences. For example, the sentence \"I am studying in Deggendorf\" should be turned into [\"I\", \"I am\", \"I am studying\", \"I am studying at\", \"I am studying in Deggendorf\"]. The following block does just that."
   ]
  },
  {
   "cell_type": "code",
   "execution_count": 6,
   "metadata": {},
   "outputs": [],
   "source": [
    "input_sequences = []\n",
    "for line in corpus:\n",
    "    token_list = tokenizer.texts_to_sequences([line])[0]\n",
    "    for i in range(1, len(token_list)):\n",
    "        n_gram_sequence = token_list[:i+1]\n",
    "        input_sequences.append(n_gram_sequence)"
   ]
  },
  {
   "cell_type": "code",
   "execution_count": 7,
   "metadata": {},
   "outputs": [
    {
     "data": {
      "text/plain": [
       "[[1, 2], [1, 2, 27], [1, 2, 27, 8], [1, 2, 27, 8, 7], [1, 2, 27, 8, 7, 528]]"
      ]
     },
     "execution_count": 7,
     "metadata": {},
     "output_type": "execute_result"
    }
   ],
   "source": [
    "input_sequences[:5]"
   ]
  },
  {
   "cell_type": "markdown",
   "metadata": {},
   "source": [
    "## Challenge\n",
    "\n",
    "If the input list is [\"I\", \"I am\", \"I am studying\", \"I am studying at\", \"I am studying in Deggendorf\"] (but tokenized of course), the input items are of different lengths. However, the network needs to be trained with fixed input length.\n",
    "\n",
    "Complete the following block to pad the items into the same length (i.e., to the max length of input sequences)."
   ]
  },
  {
   "cell_type": "code",
   "execution_count": 8,
   "metadata": {},
   "outputs": [
    {
     "name": "stdout",
     "output_type": "stream",
     "text": [
      "115\n"
     ]
    }
   ],
   "source": [
    "import numpy as np\n",
    "from tensorflow.keras.preprocessing.sequence import pad_sequences\n",
    "\n",
    "\n",
    "max_sequence_length = max([len(x) for x in input_sequences])\n",
    "input_sequences = np.array(pad_sequences(input_sequences, maxlen=max_sequence_length, padding='pre'))\n",
    "print(max_sequence_length)"
   ]
  },
  {
   "cell_type": "markdown",
   "metadata": {},
   "source": [
    "## Setting The Target Output\n",
    "\n",
    "During training, the LSTM model learns to predict the next token (label) based on the context provided by the input sequences (predictors). By iteratively adjusting its internal parameters through backpropagation, the model aims to minimize the categorical cross-entropy loss between its predictions and the actual labels.\n",
    "\n",
    "* The predictors represent the input sequences used for training the LSTM, providing context for predicting the next token. \n",
    "* Labels are the target tokens to predict. "
   ]
  },
  {
   "cell_type": "code",
   "execution_count": 16,
   "metadata": {},
   "outputs": [
    {
     "name": "stdout",
     "output_type": "stream",
     "text": [
      "array([  0,   0,   0,   0,   0,   0,   0,   0,   0,   0,   0,   0,   0,\n",
      "         0,   0,   0,   0,   0,   0,   0,   0,   0,   0,   0,   0,   0,\n",
      "         0,   0,   0,   0,   0,   0,   0,   0,   0,   0,   0,   0,   0,\n",
      "         0,   0,   0,   0,   0,   0,   0,   0,   0,   0,   0,   0,   0,\n",
      "         0,   0,   0,   0,   0,   0,   0,   0,   0,   0,   0,   0,   0,\n",
      "         0,   0,   0,   0,   0,   0,   0,   0,   0,   0,   0,   0,   0,\n",
      "         0,   0,   0,   0,   0,   0,   0,   0,   0,   0,   0,   0,   0,\n",
      "         0,   0,   0,   0,   0,   0,   0,   0,   0,   0,   0,   0,   0,\n",
      "         0,   0,   0,   0,   1,   2,  27,   8,   7, 528, 529], dtype=int32)\n",
      "\n",
      "array([  0,   0,   0,   0,   0,   0,   0,   0,   0,   0,   0,   0,   0,\n",
      "         0,   0,   0,   0,   0,   0,   0,   0,   0,   0,   0,   0,   0,\n",
      "         0,   0,   0,   0,   0,   0,   0,   0,   0,   0,   0,   0,   0,\n",
      "         0,   0,   0,   0,   0,   0,   0,   0,   0,   0,   0,   0,   0,\n",
      "         0,   0,   0,   0,   0,   0,   0,   0,   0,   0,   0,   0,   0,\n",
      "         0,   0,   0,   0,   0,   0,   0,   0,   0,   0,   0,   0,   0,\n",
      "         0,   0,   0,   0,   0,   0,   0,   0,   0,   0,   0,   0,   0,\n",
      "         0,   0,   0,   0,   0,   0,   0,   0,   0,   0,   0,   0,   0,\n",
      "         0,   0,   0,   0,   1,   2,  27,   8,   7, 528], dtype=int32)\n",
      "array([0., 0., 0., ..., 0., 0., 0.])\n"
     ]
    }
   ],
   "source": [
    "import tensorflow.keras.utils as keras_utils\n",
    "from pprint import pprint \n",
    "\n",
    "predictors, label = input_sequences[:,:-1],input_sequences[:,-1]\n",
    "label = keras_utils.to_categorical(label, num_classes=total_words)\n",
    "pprint(input_sequences[5])\n",
    "print()\n",
    "pprint(predictors[5])\n",
    "pprint(label[5])"
   ]
  },
  {
   "cell_type": "markdown",
   "metadata": {},
   "source": [
    "## The Model\n",
    "\n",
    "The following block presents a sequential model with a unidirectional LSTM stacked on top of a bidirectional LSTM.\n",
    "\n",
    "* If a tokenized input sequence is [1, 2, 3], does the +1 increment mean something? Hint: this is one of the reasons behind adding a word embedding layer.\n",
    "* A bidirectional LSTM with 150 memory units is added. Why 150? and why is `return_sequences=True`? \n",
    "* Before adding a unidirectional LSTM on top of the bidirectional one, a `Dropout` layer is placed. Why?\n",
    "* Two `Dense` layers are added after the unidirectional LSTM: one is halved in neuron numbers, with a ReLU activation, and a regulizer; the other is set up with softmax activation. Explain roughly and shortly for each the reason behind their use and setup.\n",
    "\n"
   ]
  },
  {
   "cell_type": "code",
   "execution_count": 17,
   "metadata": {},
   "outputs": [],
   "source": [
    "from tensorflow.keras.models import Sequential\n",
    "from tensorflow.keras.layers import Embedding, LSTM, Dense, Dropout, Bidirectional\n",
    "from tensorflow.keras import regularizers\n",
    "\n",
    "\n",
    "model = Sequential()\n",
    "model.add(Embedding(total_words, 100, input_length=max_sequence_length-1))\n",
    "model.add(Bidirectional(LSTM(150, return_sequences=True)))\n",
    "model.add(Dropout(0.2))\n",
    "model.add(LSTM(150))\n",
    "model.add(Dense(int(total_words/2), activation='relu', kernel_regularizer=regularizers.l2(0.01)))\n",
    "model.add(Dense(total_words, activation='softmax'))\n",
    "model.compile(loss='categorical_crossentropy', optimizer='adam', metrics=['accuracy'])\n"
   ]
  },
  {
   "cell_type": "markdown",
   "metadata": {},
   "source": [
    "### Explainations\n",
    "\n",
    "1. **Tokenized Input Sequence and +1 Increment**:\n",
    "   - The +1 increment in tokenized input sequences doesn't directly mean anything; it's a placeholder indicating token IDs. Adding a word embedding layer helps by converting these token IDs into dense vectors, providing meaningful representations.\n",
    "\n",
    "2. **Bidirectional LSTM with 150 Memory Units and `return_sequences=True`**:\n",
    "   - **Why 150?**: This is a design choice, balancing computational efficiency and model capacity.\n",
    "   - **`return_sequences=True`**: This is set to pass the output sequences of all time steps to the next layer, which is useful for stacking multiple LSTMs.\n",
    "\n",
    "3. **Dropout Layer before Unidirectional LSTM**:\n",
    "   - The Dropout layer helps prevent overfitting by randomly setting a fraction of input units to zero during training, promoting generalization.\n",
    "\n",
    "4. **Dense Layers after Unidirectional LSTM**:\n",
    "   - **First Dense Layer**: It has half the neurons (`total_words/2`) with ReLU activation and an L2 regularizer to reduce overfitting and introduce non-linearity.\n",
    "   - **Second Dense Layer**: This layer uses softmax activation to convert the final output into a probability distribution, suitable for classification tasks like predicting the next word in a sequence."
   ]
  },
  {
   "cell_type": "markdown",
   "metadata": {},
   "source": [
    "## Training\n",
    "\n",
    "The model is simply fit with the inputs and their expected outputs to be trained. "
   ]
  },
  {
   "cell_type": "code",
   "execution_count": 18,
   "metadata": {
    "scrolled": true
   },
   "outputs": [
    {
     "name": "stdout",
     "output_type": "stream",
     "text": [
      "Epoch 1/100\n",
      "\u001b[1m108/108\u001b[0m \u001b[32m━━━━━━━━━━━━━━━━━━━━\u001b[0m\u001b[37m\u001b[0m \u001b[1m36s\u001b[0m 292ms/step - accuracy: 0.0416 - loss: 8.0584\n",
      "Epoch 2/100\n",
      "\u001b[1m108/108\u001b[0m \u001b[32m━━━━━━━━━━━━━━━━━━━━\u001b[0m\u001b[37m\u001b[0m \u001b[1m30s\u001b[0m 278ms/step - accuracy: 0.0511 - loss: 6.3734\n",
      "Epoch 3/100\n",
      "\u001b[1m108/108\u001b[0m \u001b[32m━━━━━━━━━━━━━━━━━━━━\u001b[0m\u001b[37m\u001b[0m \u001b[1m30s\u001b[0m 275ms/step - accuracy: 0.0561 - loss: 5.9906\n",
      "Epoch 4/100\n",
      "\u001b[1m108/108\u001b[0m \u001b[32m━━━━━━━━━━━━━━━━━━━━\u001b[0m\u001b[37m\u001b[0m \u001b[1m31s\u001b[0m 288ms/step - accuracy: 0.0528 - loss: 5.9009\n",
      "Epoch 5/100\n",
      "\u001b[1m108/108\u001b[0m \u001b[32m━━━━━━━━━━━━━━━━━━━━\u001b[0m\u001b[37m\u001b[0m \u001b[1m35s\u001b[0m 319ms/step - accuracy: 0.0481 - loss: 5.8076\n",
      "Epoch 6/100\n",
      "\u001b[1m108/108\u001b[0m \u001b[32m━━━━━━━━━━━━━━━━━━━━\u001b[0m\u001b[37m\u001b[0m \u001b[1m31s\u001b[0m 285ms/step - accuracy: 0.0533 - loss: 5.7478\n",
      "Epoch 7/100\n",
      "\u001b[1m108/108\u001b[0m \u001b[32m━━━━━━━━━━━━━━━━━━━━\u001b[0m\u001b[37m\u001b[0m \u001b[1m42s\u001b[0m 291ms/step - accuracy: 0.0445 - loss: 5.7071\n",
      "Epoch 8/100\n",
      "\u001b[1m108/108\u001b[0m \u001b[32m━━━━━━━━━━━━━━━━━━━━\u001b[0m\u001b[37m\u001b[0m \u001b[1m31s\u001b[0m 287ms/step - accuracy: 0.0611 - loss: 5.5789\n",
      "Epoch 9/100\n",
      "\u001b[1m108/108\u001b[0m \u001b[32m━━━━━━━━━━━━━━━━━━━━\u001b[0m\u001b[37m\u001b[0m \u001b[1m30s\u001b[0m 275ms/step - accuracy: 0.0548 - loss: 5.5527\n",
      "Epoch 10/100\n",
      "\u001b[1m108/108\u001b[0m \u001b[32m━━━━━━━━━━━━━━━━━━━━\u001b[0m\u001b[37m\u001b[0m \u001b[1m31s\u001b[0m 286ms/step - accuracy: 0.0595 - loss: 5.4717\n",
      "Epoch 11/100\n",
      "\u001b[1m108/108\u001b[0m \u001b[32m━━━━━━━━━━━━━━━━━━━━\u001b[0m\u001b[37m\u001b[0m \u001b[1m42s\u001b[0m 291ms/step - accuracy: 0.0613 - loss: 5.4319\n",
      "Epoch 12/100\n",
      "\u001b[1m108/108\u001b[0m \u001b[32m━━━━━━━━━━━━━━━━━━━━\u001b[0m\u001b[37m\u001b[0m \u001b[1m30s\u001b[0m 282ms/step - accuracy: 0.0589 - loss: 5.3412\n",
      "Epoch 13/100\n",
      "\u001b[1m108/108\u001b[0m \u001b[32m━━━━━━━━━━━━━━━━━━━━\u001b[0m\u001b[37m\u001b[0m \u001b[1m30s\u001b[0m 280ms/step - accuracy: 0.0699 - loss: 5.2149\n",
      "Epoch 14/100\n",
      "\u001b[1m108/108\u001b[0m \u001b[32m━━━━━━━━━━━━━━━━━━━━\u001b[0m\u001b[37m\u001b[0m \u001b[1m30s\u001b[0m 275ms/step - accuracy: 0.0706 - loss: 5.1912\n",
      "Epoch 15/100\n",
      "\u001b[1m108/108\u001b[0m \u001b[32m━━━━━━━━━━━━━━━━━━━━\u001b[0m\u001b[37m\u001b[0m \u001b[1m31s\u001b[0m 286ms/step - accuracy: 0.0670 - loss: 5.1827\n",
      "Epoch 16/100\n",
      "\u001b[1m108/108\u001b[0m \u001b[32m━━━━━━━━━━━━━━━━━━━━\u001b[0m\u001b[37m\u001b[0m \u001b[1m32s\u001b[0m 295ms/step - accuracy: 0.0915 - loss: 4.9728\n",
      "Epoch 17/100\n",
      "\u001b[1m108/108\u001b[0m \u001b[32m━━━━━━━━━━━━━━━━━━━━\u001b[0m\u001b[37m\u001b[0m \u001b[1m39s\u001b[0m 273ms/step - accuracy: 0.0918 - loss: 4.9402\n",
      "Epoch 18/100\n",
      "\u001b[1m108/108\u001b[0m \u001b[32m━━━━━━━━━━━━━━━━━━━━\u001b[0m\u001b[37m\u001b[0m \u001b[1m30s\u001b[0m 273ms/step - accuracy: 0.1029 - loss: 4.8293\n",
      "Epoch 19/100\n",
      "\u001b[1m108/108\u001b[0m \u001b[32m━━━━━━━━━━━━━━━━━━━━\u001b[0m\u001b[37m\u001b[0m \u001b[1m30s\u001b[0m 273ms/step - accuracy: 0.1148 - loss: 4.7327\n",
      "Epoch 20/100\n",
      "\u001b[1m108/108\u001b[0m \u001b[32m━━━━━━━━━━━━━━━━━━━━\u001b[0m\u001b[37m\u001b[0m \u001b[1m41s\u001b[0m 274ms/step - accuracy: 0.1164 - loss: 4.7157\n",
      "Epoch 21/100\n",
      "\u001b[1m108/108\u001b[0m \u001b[32m━━━━━━━━━━━━━━━━━━━━\u001b[0m\u001b[37m\u001b[0m \u001b[1m30s\u001b[0m 273ms/step - accuracy: 0.1219 - loss: 4.6466\n",
      "Epoch 22/100\n",
      "\u001b[1m108/108\u001b[0m \u001b[32m━━━━━━━━━━━━━━━━━━━━\u001b[0m\u001b[37m\u001b[0m \u001b[1m30s\u001b[0m 275ms/step - accuracy: 0.1282 - loss: 4.5762\n",
      "Epoch 23/100\n",
      "\u001b[1m108/108\u001b[0m \u001b[32m━━━━━━━━━━━━━━━━━━━━\u001b[0m\u001b[37m\u001b[0m \u001b[1m29s\u001b[0m 272ms/step - accuracy: 0.1478 - loss: 4.4488\n",
      "Epoch 24/100\n",
      "\u001b[1m108/108\u001b[0m \u001b[32m━━━━━━━━━━━━━━━━━━━━\u001b[0m\u001b[37m\u001b[0m \u001b[1m29s\u001b[0m 273ms/step - accuracy: 0.1434 - loss: 4.4278\n",
      "Epoch 25/100\n",
      "\u001b[1m108/108\u001b[0m \u001b[32m━━━━━━━━━━━━━━━━━━━━\u001b[0m\u001b[37m\u001b[0m \u001b[1m30s\u001b[0m 275ms/step - accuracy: 0.1644 - loss: 4.3197\n",
      "Epoch 26/100\n",
      "\u001b[1m108/108\u001b[0m \u001b[32m━━━━━━━━━━━━━━━━━━━━\u001b[0m\u001b[37m\u001b[0m \u001b[1m30s\u001b[0m 276ms/step - accuracy: 0.1581 - loss: 4.3042\n",
      "Epoch 27/100\n",
      "\u001b[1m108/108\u001b[0m \u001b[32m━━━━━━━━━━━━━━━━━━━━\u001b[0m\u001b[37m\u001b[0m \u001b[1m29s\u001b[0m 273ms/step - accuracy: 0.1643 - loss: 4.1958\n",
      "Epoch 28/100\n",
      "\u001b[1m108/108\u001b[0m \u001b[32m━━━━━━━━━━━━━━━━━━━━\u001b[0m\u001b[37m\u001b[0m \u001b[1m30s\u001b[0m 274ms/step - accuracy: 0.1684 - loss: 4.1366\n",
      "Epoch 29/100\n",
      "\u001b[1m108/108\u001b[0m \u001b[32m━━━━━━━━━━━━━━━━━━━━\u001b[0m\u001b[37m\u001b[0m \u001b[1m30s\u001b[0m 274ms/step - accuracy: 0.1808 - loss: 3.9986\n",
      "Epoch 30/100\n",
      "\u001b[1m108/108\u001b[0m \u001b[32m━━━━━━━━━━━━━━━━━━━━\u001b[0m\u001b[37m\u001b[0m \u001b[1m30s\u001b[0m 273ms/step - accuracy: 0.1920 - loss: 3.9962\n",
      "Epoch 31/100\n",
      "\u001b[1m108/108\u001b[0m \u001b[32m━━━━━━━━━━━━━━━━━━━━\u001b[0m\u001b[37m\u001b[0m \u001b[1m41s\u001b[0m 273ms/step - accuracy: 0.2014 - loss: 3.9418\n",
      "Epoch 32/100\n",
      "\u001b[1m108/108\u001b[0m \u001b[32m━━━━━━━━━━━━━━━━━━━━\u001b[0m\u001b[37m\u001b[0m \u001b[1m30s\u001b[0m 276ms/step - accuracy: 0.2186 - loss: 3.7770\n",
      "Epoch 33/100\n",
      "\u001b[1m108/108\u001b[0m \u001b[32m━━━━━━━━━━━━━━━━━━━━\u001b[0m\u001b[37m\u001b[0m \u001b[1m30s\u001b[0m 273ms/step - accuracy: 0.2302 - loss: 3.6945\n",
      "Epoch 34/100\n",
      "\u001b[1m108/108\u001b[0m \u001b[32m━━━━━━━━━━━━━━━━━━━━\u001b[0m\u001b[37m\u001b[0m \u001b[1m30s\u001b[0m 274ms/step - accuracy: 0.2431 - loss: 3.6341\n",
      "Epoch 35/100\n",
      "\u001b[1m108/108\u001b[0m \u001b[32m━━━━━━━━━━━━━━━━━━━━\u001b[0m\u001b[37m\u001b[0m \u001b[1m30s\u001b[0m 277ms/step - accuracy: 0.2485 - loss: 3.5972\n",
      "Epoch 36/100\n",
      "\u001b[1m108/108\u001b[0m \u001b[32m━━━━━━━━━━━━━━━━━━━━\u001b[0m\u001b[37m\u001b[0m \u001b[1m32s\u001b[0m 292ms/step - accuracy: 0.2576 - loss: 3.5337\n",
      "Epoch 37/100\n",
      "\u001b[1m108/108\u001b[0m \u001b[32m━━━━━━━━━━━━━━━━━━━━\u001b[0m\u001b[37m\u001b[0m \u001b[1m31s\u001b[0m 285ms/step - accuracy: 0.2734 - loss: 3.4366\n",
      "Epoch 38/100\n",
      "\u001b[1m108/108\u001b[0m \u001b[32m━━━━━━━━━━━━━━━━━━━━\u001b[0m\u001b[37m\u001b[0m \u001b[1m30s\u001b[0m 281ms/step - accuracy: 0.3004 - loss: 3.3474\n",
      "Epoch 39/100\n",
      "\u001b[1m108/108\u001b[0m \u001b[32m━━━━━━━━━━━━━━━━━━━━\u001b[0m\u001b[37m\u001b[0m \u001b[1m30s\u001b[0m 277ms/step - accuracy: 0.3078 - loss: 3.2734\n",
      "Epoch 40/100\n",
      "\u001b[1m108/108\u001b[0m \u001b[32m━━━━━━━━━━━━━━━━━━━━\u001b[0m\u001b[37m\u001b[0m \u001b[1m31s\u001b[0m 291ms/step - accuracy: 0.3229 - loss: 3.2523\n",
      "Epoch 41/100\n",
      "\u001b[1m108/108\u001b[0m \u001b[32m━━━━━━━━━━━━━━━━━━━━\u001b[0m\u001b[37m\u001b[0m \u001b[1m31s\u001b[0m 290ms/step - accuracy: 0.3461 - loss: 3.1292\n",
      "Epoch 42/100\n",
      "\u001b[1m108/108\u001b[0m \u001b[32m━━━━━━━━━━━━━━━━━━━━\u001b[0m\u001b[37m\u001b[0m \u001b[1m31s\u001b[0m 287ms/step - accuracy: 0.3501 - loss: 3.1033\n",
      "Epoch 43/100\n",
      "\u001b[1m108/108\u001b[0m \u001b[32m━━━━━━━━━━━━━━━━━━━━\u001b[0m\u001b[37m\u001b[0m \u001b[1m31s\u001b[0m 283ms/step - accuracy: 0.3475 - loss: 3.0318\n",
      "Epoch 44/100\n",
      "\u001b[1m108/108\u001b[0m \u001b[32m━━━━━━━━━━━━━━━━━━━━\u001b[0m\u001b[37m\u001b[0m \u001b[1m32s\u001b[0m 296ms/step - accuracy: 0.3882 - loss: 2.9247\n",
      "Epoch 45/100\n",
      "\u001b[1m108/108\u001b[0m \u001b[32m━━━━━━━━━━━━━━━━━━━━\u001b[0m\u001b[37m\u001b[0m \u001b[1m42s\u001b[0m 302ms/step - accuracy: 0.4005 - loss: 2.8206\n",
      "Epoch 46/100\n",
      "\u001b[1m108/108\u001b[0m \u001b[32m━━━━━━━━━━━━━━━━━━━━\u001b[0m\u001b[37m\u001b[0m \u001b[1m32s\u001b[0m 295ms/step - accuracy: 0.4267 - loss: 2.7700\n",
      "Epoch 47/100\n",
      "\u001b[1m108/108\u001b[0m \u001b[32m━━━━━━━━━━━━━━━━━━━━\u001b[0m\u001b[37m\u001b[0m \u001b[1m32s\u001b[0m 300ms/step - accuracy: 0.4521 - loss: 2.6749\n",
      "Epoch 48/100\n",
      "\u001b[1m108/108\u001b[0m \u001b[32m━━━━━━━━━━━━━━━━━━━━\u001b[0m\u001b[37m\u001b[0m \u001b[1m31s\u001b[0m 288ms/step - accuracy: 0.4686 - loss: 2.5873\n",
      "Epoch 49/100\n",
      "\u001b[1m108/108\u001b[0m \u001b[32m━━━━━━━━━━━━━━━━━━━━\u001b[0m\u001b[37m\u001b[0m \u001b[1m42s\u001b[0m 300ms/step - accuracy: 0.5096 - loss: 2.4617\n",
      "Epoch 50/100\n",
      "\u001b[1m108/108\u001b[0m \u001b[32m━━━━━━━━━━━━━━━━━━━━\u001b[0m\u001b[37m\u001b[0m \u001b[1m33s\u001b[0m 304ms/step - accuracy: 0.4981 - loss: 2.4907\n",
      "Epoch 51/100\n",
      "\u001b[1m108/108\u001b[0m \u001b[32m━━━━━━━━━━━━━━━━━━━━\u001b[0m\u001b[37m\u001b[0m \u001b[1m33s\u001b[0m 305ms/step - accuracy: 0.5409 - loss: 2.3701\n",
      "Epoch 52/100\n",
      "\u001b[1m108/108\u001b[0m \u001b[32m━━━━━━━━━━━━━━━━━━━━\u001b[0m\u001b[37m\u001b[0m \u001b[1m30s\u001b[0m 276ms/step - accuracy: 0.5397 - loss: 2.3208\n",
      "Epoch 53/100\n",
      "\u001b[1m108/108\u001b[0m \u001b[32m━━━━━━━━━━━━━━━━━━━━\u001b[0m\u001b[37m\u001b[0m \u001b[1m33s\u001b[0m 305ms/step - accuracy: 0.5756 - loss: 2.2289\n",
      "Epoch 54/100\n",
      "\u001b[1m108/108\u001b[0m \u001b[32m━━━━━━━━━━━━━━━━━━━━\u001b[0m\u001b[37m\u001b[0m \u001b[1m38s\u001b[0m 271ms/step - accuracy: 0.5878 - loss: 2.1965\n",
      "Epoch 55/100\n",
      "\u001b[1m108/108\u001b[0m \u001b[32m━━━━━━━━━━━━━━━━━━━━\u001b[0m\u001b[37m\u001b[0m \u001b[1m29s\u001b[0m 272ms/step - accuracy: 0.6168 - loss: 2.0871\n",
      "Epoch 56/100\n",
      "\u001b[1m108/108\u001b[0m \u001b[32m━━━━━━━━━━━━━━━━━━━━\u001b[0m\u001b[37m\u001b[0m \u001b[1m30s\u001b[0m 274ms/step - accuracy: 0.6265 - loss: 2.0367\n",
      "Epoch 57/100\n",
      "\u001b[1m108/108\u001b[0m \u001b[32m━━━━━━━━━━━━━━━━━━━━\u001b[0m\u001b[37m\u001b[0m \u001b[1m39s\u001b[0m 258ms/step - accuracy: 0.6602 - loss: 1.9603\n",
      "Epoch 58/100\n",
      "\u001b[1m108/108\u001b[0m \u001b[32m━━━━━━━━━━━━━━━━━━━━\u001b[0m\u001b[37m\u001b[0m \u001b[1m49s\u001b[0m 334ms/step - accuracy: 0.6455 - loss: 2.0394\n",
      "Epoch 59/100\n",
      "\u001b[1m108/108\u001b[0m \u001b[32m━━━━━━━━━━━━━━━━━━━━\u001b[0m\u001b[37m\u001b[0m \u001b[1m34s\u001b[0m 268ms/step - accuracy: 0.6795 - loss: 1.8920\n",
      "Epoch 60/100\n",
      "\u001b[1m108/108\u001b[0m \u001b[32m━━━━━━━━━━━━━━━━━━━━\u001b[0m\u001b[37m\u001b[0m \u001b[1m29s\u001b[0m 271ms/step - accuracy: 0.7103 - loss: 1.8387\n",
      "Epoch 61/100\n",
      "\u001b[1m108/108\u001b[0m \u001b[32m━━━━━━━━━━━━━━━━━━━━\u001b[0m\u001b[37m\u001b[0m \u001b[1m47s\u001b[0m 331ms/step - accuracy: 0.7165 - loss: 1.7790\n",
      "Epoch 62/100\n",
      "\u001b[1m108/108\u001b[0m \u001b[32m━━━━━━━━━━━━━━━━━━━━\u001b[0m\u001b[37m\u001b[0m \u001b[1m30s\u001b[0m 275ms/step - accuracy: 0.7530 - loss: 1.6829\n",
      "Epoch 63/100\n",
      "\u001b[1m108/108\u001b[0m \u001b[32m━━━━━━━━━━━━━━━━━━━━\u001b[0m\u001b[37m\u001b[0m \u001b[1m29s\u001b[0m 273ms/step - accuracy: 0.7528 - loss: 1.6338\n",
      "Epoch 64/100\n",
      "\u001b[1m108/108\u001b[0m \u001b[32m━━━━━━━━━━━━━━━━━━━━\u001b[0m\u001b[37m\u001b[0m \u001b[1m29s\u001b[0m 271ms/step - accuracy: 0.7631 - loss: 1.6096\n",
      "Epoch 65/100\n",
      "\u001b[1m108/108\u001b[0m \u001b[32m━━━━━━━━━━━━━━━━━━━━\u001b[0m\u001b[37m\u001b[0m \u001b[1m30s\u001b[0m 276ms/step - accuracy: 0.7936 - loss: 1.5492\n",
      "Epoch 66/100\n",
      "\u001b[1m108/108\u001b[0m \u001b[32m━━━━━━━━━━━━━━━━━━━━\u001b[0m\u001b[37m\u001b[0m \u001b[1m29s\u001b[0m 271ms/step - accuracy: 0.8028 - loss: 1.4993\n",
      "Epoch 67/100\n",
      "\u001b[1m108/108\u001b[0m \u001b[32m━━━━━━━━━━━━━━━━━━━━\u001b[0m\u001b[37m\u001b[0m \u001b[1m40s\u001b[0m 259ms/step - accuracy: 0.8195 - loss: 1.4431\n",
      "Epoch 68/100\n",
      "\u001b[1m108/108\u001b[0m \u001b[32m━━━━━━━━━━━━━━━━━━━━\u001b[0m\u001b[37m\u001b[0m \u001b[1m29s\u001b[0m 270ms/step - accuracy: 0.8046 - loss: 1.4706\n",
      "Epoch 69/100\n",
      "\u001b[1m108/108\u001b[0m \u001b[32m━━━━━━━━━━━━━━━━━━━━\u001b[0m\u001b[37m\u001b[0m \u001b[1m30s\u001b[0m 274ms/step - accuracy: 0.8273 - loss: 1.3665\n",
      "Epoch 70/100\n",
      "\u001b[1m108/108\u001b[0m \u001b[32m━━━━━━━━━━━━━━━━━━━━\u001b[0m\u001b[37m\u001b[0m \u001b[1m30s\u001b[0m 275ms/step - accuracy: 0.8328 - loss: 1.3325\n",
      "Epoch 71/100\n",
      "\u001b[1m108/108\u001b[0m \u001b[32m━━━━━━━━━━━━━━━━━━━━\u001b[0m\u001b[37m\u001b[0m \u001b[1m39s\u001b[0m 261ms/step - accuracy: 0.8472 - loss: 1.3068\n",
      "Epoch 72/100\n",
      "\u001b[1m108/108\u001b[0m \u001b[32m━━━━━━━━━━━━━━━━━━━━\u001b[0m\u001b[37m\u001b[0m \u001b[1m49s\u001b[0m 336ms/step - accuracy: 0.8462 - loss: 1.2694\n",
      "Epoch 73/100\n",
      "\u001b[1m108/108\u001b[0m \u001b[32m━━━━━━━━━━━━━━━━━━━━\u001b[0m\u001b[37m\u001b[0m \u001b[1m29s\u001b[0m 271ms/step - accuracy: 0.8650 - loss: 1.2348\n",
      "Epoch 74/100\n",
      "\u001b[1m108/108\u001b[0m \u001b[32m━━━━━━━━━━━━━━━━━━━━\u001b[0m\u001b[37m\u001b[0m \u001b[1m40s\u001b[0m 259ms/step - accuracy: 0.8751 - loss: 1.1941\n",
      "Epoch 75/100\n",
      "\u001b[1m108/108\u001b[0m \u001b[32m━━━━━━━━━━━━━━━━━━━━\u001b[0m\u001b[37m\u001b[0m \u001b[1m29s\u001b[0m 271ms/step - accuracy: 0.8814 - loss: 1.1560\n",
      "Epoch 76/100\n",
      "\u001b[1m108/108\u001b[0m \u001b[32m━━━━━━━━━━━━━━━━━━━━\u001b[0m\u001b[37m\u001b[0m \u001b[1m29s\u001b[0m 270ms/step - accuracy: 0.8903 - loss: 1.1176\n",
      "Epoch 77/100\n",
      "\u001b[1m108/108\u001b[0m \u001b[32m━━━━━━━━━━━━━━━━━━━━\u001b[0m\u001b[37m\u001b[0m \u001b[1m30s\u001b[0m 274ms/step - accuracy: 0.8819 - loss: 1.1170\n",
      "Epoch 78/100\n",
      "\u001b[1m108/108\u001b[0m \u001b[32m━━━━━━━━━━━━━━━━━━━━\u001b[0m\u001b[37m\u001b[0m \u001b[1m29s\u001b[0m 272ms/step - accuracy: 0.8896 - loss: 1.1037\n",
      "Epoch 79/100\n",
      "\u001b[1m108/108\u001b[0m \u001b[32m━━━━━━━━━━━━━━━━━━━━\u001b[0m\u001b[37m\u001b[0m \u001b[1m30s\u001b[0m 274ms/step - accuracy: 0.8971 - loss: 1.0551\n",
      "Epoch 80/100\n",
      "\u001b[1m108/108\u001b[0m \u001b[32m━━━━━━━━━━━━━━━━━━━━\u001b[0m\u001b[37m\u001b[0m \u001b[1m29s\u001b[0m 273ms/step - accuracy: 0.9088 - loss: 1.0363\n",
      "Epoch 81/100\n",
      "\u001b[1m108/108\u001b[0m \u001b[32m━━━━━━━━━━━━━━━━━━━━\u001b[0m\u001b[37m\u001b[0m \u001b[1m30s\u001b[0m 274ms/step - accuracy: 0.9116 - loss: 1.0017\n",
      "Epoch 82/100\n",
      "\u001b[1m108/108\u001b[0m \u001b[32m━━━━━━━━━━━━━━━━━━━━\u001b[0m\u001b[37m\u001b[0m \u001b[1m29s\u001b[0m 270ms/step - accuracy: 0.9156 - loss: 0.9791\n",
      "Epoch 83/100\n",
      "\u001b[1m108/108\u001b[0m \u001b[32m━━━━━━━━━━━━━━━━━━━━\u001b[0m\u001b[37m\u001b[0m \u001b[1m30s\u001b[0m 274ms/step - accuracy: 0.9138 - loss: 0.9592\n",
      "Epoch 84/100\n",
      "\u001b[1m108/108\u001b[0m \u001b[32m━━━━━━━━━━━━━━━━━━━━\u001b[0m\u001b[37m\u001b[0m \u001b[1m30s\u001b[0m 278ms/step - accuracy: 0.9256 - loss: 0.9464\n",
      "Epoch 85/100\n",
      "\u001b[1m108/108\u001b[0m \u001b[32m━━━━━━━━━━━━━━━━━━━━\u001b[0m\u001b[37m\u001b[0m \u001b[1m30s\u001b[0m 274ms/step - accuracy: 0.9228 - loss: 0.9220\n",
      "Epoch 86/100\n",
      "\u001b[1m108/108\u001b[0m \u001b[32m━━━━━━━━━━━━━━━━━━━━\u001b[0m\u001b[37m\u001b[0m \u001b[1m29s\u001b[0m 271ms/step - accuracy: 0.9420 - loss: 0.8556\n",
      "Epoch 87/100\n",
      "\u001b[1m108/108\u001b[0m \u001b[32m━━━━━━━━━━━━━━━━━━━━\u001b[0m\u001b[37m\u001b[0m \u001b[1m29s\u001b[0m 271ms/step - accuracy: 0.9402 - loss: 0.8686\n",
      "Epoch 88/100\n",
      "\u001b[1m108/108\u001b[0m \u001b[32m━━━━━━━━━━━━━━━━━━━━\u001b[0m\u001b[37m\u001b[0m \u001b[1m30s\u001b[0m 275ms/step - accuracy: 0.9339 - loss: 0.8531\n",
      "Epoch 89/100\n",
      "\u001b[1m108/108\u001b[0m \u001b[32m━━━━━━━━━━━━━━━━━━━━\u001b[0m\u001b[37m\u001b[0m \u001b[1m30s\u001b[0m 273ms/step - accuracy: 0.9328 - loss: 0.8522\n",
      "Epoch 90/100\n",
      "\u001b[1m108/108\u001b[0m \u001b[32m━━━━━━━━━━━━━━━━━━━━\u001b[0m\u001b[37m\u001b[0m \u001b[1m30s\u001b[0m 273ms/step - accuracy: 0.9231 - loss: 0.8532\n",
      "Epoch 91/100\n",
      "\u001b[1m108/108\u001b[0m \u001b[32m━━━━━━━━━━━━━━━━━━━━\u001b[0m\u001b[37m\u001b[0m \u001b[1m30s\u001b[0m 275ms/step - accuracy: 0.9484 - loss: 0.8002\n",
      "Epoch 92/100\n",
      "\u001b[1m108/108\u001b[0m \u001b[32m━━━━━━━━━━━━━━━━━━━━\u001b[0m\u001b[37m\u001b[0m \u001b[1m30s\u001b[0m 276ms/step - accuracy: 0.9569 - loss: 0.7599\n",
      "Epoch 93/100\n",
      "\u001b[1m108/108\u001b[0m \u001b[32m━━━━━━━━━━━━━━━━━━━━\u001b[0m\u001b[37m\u001b[0m \u001b[1m30s\u001b[0m 275ms/step - accuracy: 0.9529 - loss: 0.7491\n",
      "Epoch 94/100\n",
      "\u001b[1m108/108\u001b[0m \u001b[32m━━━━━━━━━━━━━━━━━━━━\u001b[0m\u001b[37m\u001b[0m \u001b[1m33s\u001b[0m 306ms/step - accuracy: 0.9591 - loss: 0.7219\n",
      "Epoch 95/100\n",
      "\u001b[1m108/108\u001b[0m \u001b[32m━━━━━━━━━━━━━━━━━━━━\u001b[0m\u001b[37m\u001b[0m \u001b[1m29s\u001b[0m 273ms/step - accuracy: 0.9550 - loss: 0.7349\n",
      "Epoch 96/100\n",
      "\u001b[1m108/108\u001b[0m \u001b[32m━━━━━━━━━━━━━━━━━━━━\u001b[0m\u001b[37m\u001b[0m \u001b[1m30s\u001b[0m 274ms/step - accuracy: 0.9343 - loss: 0.8014\n",
      "Epoch 97/100\n",
      "\u001b[1m108/108\u001b[0m \u001b[32m━━━━━━━━━━━━━━━━━━━━\u001b[0m\u001b[37m\u001b[0m \u001b[1m30s\u001b[0m 275ms/step - accuracy: 0.9441 - loss: 0.7629\n",
      "Epoch 98/100\n",
      "\u001b[1m108/108\u001b[0m \u001b[32m━━━━━━━━━━━━━━━━━━━━\u001b[0m\u001b[37m\u001b[0m \u001b[1m30s\u001b[0m 275ms/step - accuracy: 0.9449 - loss: 0.7226\n",
      "Epoch 99/100\n",
      "\u001b[1m108/108\u001b[0m \u001b[32m━━━━━━━━━━━━━━━━━━━━\u001b[0m\u001b[37m\u001b[0m \u001b[1m30s\u001b[0m 273ms/step - accuracy: 0.9478 - loss: 0.7023\n",
      "Epoch 100/100\n",
      "\u001b[1m108/108\u001b[0m \u001b[32m━━━━━━━━━━━━━━━━━━━━\u001b[0m\u001b[37m\u001b[0m \u001b[1m40s\u001b[0m 265ms/step - accuracy: 0.9635 - loss: 0.6626\n"
     ]
    },
    {
     "data": {
      "image/png": "[encoded data removed]",
      "text/plain": [
       "<Figure size 640x480 with 1 Axes>"
      ]
     },
     "metadata": {},
     "output_type": "display_data"
    },
    {
     "data": {
      "image/png": "[encoded data removed]",
      "text/plain": [
       "<Figure size 640x480 with 1 Axes>"
      ]
     },
     "metadata": {},
     "output_type": "display_data"
    }
   ],
   "source": [
    "history = model.fit(predictors, label, epochs=100, verbose=1)\n",
    "\n",
    "import matplotlib.pyplot as plt\n",
    "acc = history.history['accuracy']\n",
    "loss = history.history['loss']\n",
    "epochs = range(len(acc))\n",
    "plt.plot(epochs, acc, 'b', label='Training accuracy')\n",
    "plt.title('Training accuracy')\n",
    "plt.figure()\n",
    "plt.plot(epochs, loss, 'b', label='Training Loss')\n",
    "plt.title('Training loss')\n",
    "plt.legend()\n",
    "plt.show()\n"
   ]
  },
  {
   "cell_type": "markdown",
   "metadata": {},
   "source": [
    "## Generating Text\n",
    "\n",
    "Fill in the missing variables in the following block and let the model generate some words. Play with the previous parameters (training epochs, memory units, removing the unidirectional LSTM or any additional layer,...) and try to spot the deviations."
   ]
  },
  {
   "cell_type": "code",
   "execution_count": 7,
   "metadata": {},
   "outputs": [
    {
     "name": "stdout",
     "output_type": "stream",
     "text": [
      " all you need  learning to control values 2022 speech arxiv 2304 07235 07 research 1987 iccv 2018 additional 1 cv terms in cognition foundations we 02 03 arxiv 1807 06521 cs cv language and language step arxiv 1709 01507 doi 10 1109 cvpr 2018 00745 isbn 978 1 5386 6420 9 s2cid 206597034 12 cv 978 attention with step by enables the neural head 2019 because a figures determined in transformers architectures within practice the attention weights express this treatment in long much effort has gone into understand attention further by studying their roles in focused settings such as in context learning 9 masked language tasks 10 stripped down transformers 11 bigram statistics 12 pairwise convolutions 13 and arithmetic factoring 14 isbn 978 1 7281 4803 8 s2cid 118673006 isbn isbn 978 1 7281 4803 8 s2cid 118673006 isbn isbn 978 1 7281 4803 8 s2cid 118673006 multimodal multi head convolutional attention with various kernel sizes for medical image super resolution recognition and sentiment analysis 03 08 cvpr 978 attention you architectures enables the calculation of the microstructure of cognition foundations chapter 2 pdf cambridge mass bradford books isbn 978 0 262 68053 0 00679 isbn 978 1 7281 4803 8 s2cid 118673006\n"
     ]
    }
   ],
   "source": [
    "seed_text = \" all you need \"\n",
    "next_words = 200\n",
    "\n",
    "for _ in range(next_words):\n",
    "    token_list = tokenizer.texts_to_sequences([seed_text])[0]\n",
    "    token_list = pad_sequences([token_list], maxlen=max_sequence_length-1, padding='pre')\n",
    "    predicted_probabilities = model.predict(token_list, verbose=0)\n",
    "    predicted_class = np.argmax(predicted_probabilities)\n",
    "    output_word = \"\"\n",
    "    for word, index in tokenizer.word_index.items():\n",
    "        if index == predicted_class:\n",
    "            output_word = word\n",
    "            break\n",
    "    seed_text += \" \" + output_word\n",
    "\n",
    "print(seed_text)"
   ]
  },
  {
   "cell_type": "code",
   "execution_count": 20,
   "metadata": {},
   "outputs": [],
   "source": [
    "from tensorflow.keras.models import Sequential\n",
    "from tensorflow.keras.layers import Embedding, LSTM, Dense, Dropout, Bidirectional\n",
    "from tensorflow.keras import regularizers\n",
    "\n",
    "\n",
    "model = Sequential()\n",
    "model.add(Embedding(total_words, 100, input_length=max_sequence_length-1))\n",
    "model.add(Bidirectional(LSTM(100, return_sequences=True))) # adjusted layer to 100 hiden stats\n",
    "model.add(Dropout(0.2))\n",
    "model.add(LSTM(100))  # adjusted layer to 100 hiden stats\n",
    "model.add(Dense(int(total_words/2), activation='relu', kernel_regularizer=regularizers.l2(0.01)))\n",
    "model.add(Dense(int(total_words/3), activation='relu'))  # added new layer\n",
    "model.add(Dense(total_words, activation='softmax'))\n",
    "model.compile(loss='categorical_crossentropy', optimizer='adam', metrics=['accuracy'])"
   ]
  },
  {
   "cell_type": "code",
   "execution_count": 21,
   "metadata": {
    "scrolled": true
   },
   "outputs": [
    {
     "name": "stdout",
     "output_type": "stream",
     "text": [
      "Epoch 1/120\n",
      "\u001b[1m108/108\u001b[0m \u001b[32m━━━━━━━━━━━━━━━━━━━━\u001b[0m\u001b[37m\u001b[0m \u001b[1m21s\u001b[0m 161ms/step - accuracy: 0.0337 - loss: 7.6883\n",
      "Epoch 2/120\n",
      "\u001b[1m108/108\u001b[0m \u001b[32m━━━━━━━━━━━━━━━━━━━━\u001b[0m\u001b[37m\u001b[0m \u001b[1m20s\u001b[0m 158ms/step - accuracy: 0.0541 - loss: 6.2674\n",
      "Epoch 3/120\n",
      "\u001b[1m108/108\u001b[0m \u001b[32m━━━━━━━━━━━━━━━━━━━━\u001b[0m\u001b[37m\u001b[0m \u001b[1m19s\u001b[0m 174ms/step - accuracy: 0.0553 - loss: 5.9667\n",
      "Epoch 4/120\n",
      "\u001b[1m108/108\u001b[0m \u001b[32m━━━━━━━━━━━━━━━━━━━━\u001b[0m\u001b[37m\u001b[0m \u001b[1m17s\u001b[0m 162ms/step - accuracy: 0.0556 - loss: 5.8867\n",
      "Epoch 5/120\n",
      "\u001b[1m108/108\u001b[0m \u001b[32m━━━━━━━━━━━━━━━━━━━━\u001b[0m\u001b[37m\u001b[0m \u001b[1m18s\u001b[0m 167ms/step - accuracy: 0.0562 - loss: 5.7719\n",
      "Epoch 6/120\n",
      "\u001b[1m108/108\u001b[0m \u001b[32m━━━━━━━━━━━━━━━━━━━━\u001b[0m\u001b[37m\u001b[0m \u001b[1m18s\u001b[0m 169ms/step - accuracy: 0.0547 - loss: 5.7117\n",
      "Epoch 7/120\n",
      "\u001b[1m108/108\u001b[0m \u001b[32m━━━━━━━━━━━━━━━━━━━━\u001b[0m\u001b[37m\u001b[0m \u001b[1m18s\u001b[0m 170ms/step - accuracy: 0.0512 - loss: 5.6951\n",
      "Epoch 8/120\n",
      "\u001b[1m108/108\u001b[0m \u001b[32m━━━━━━━━━━━━━━━━━━━━\u001b[0m\u001b[37m\u001b[0m \u001b[1m18s\u001b[0m 168ms/step - accuracy: 0.0595 - loss: 5.5602\n",
      "Epoch 9/120\n",
      "\u001b[1m108/108\u001b[0m \u001b[32m━━━━━━━━━━━━━━━━━━━━\u001b[0m\u001b[37m\u001b[0m \u001b[1m19s\u001b[0m 176ms/step - accuracy: 0.0570 - loss: 5.6028\n",
      "Epoch 10/120\n",
      "\u001b[1m108/108\u001b[0m \u001b[32m━━━━━━━━━━━━━━━━━━━━\u001b[0m\u001b[37m\u001b[0m \u001b[1m19s\u001b[0m 172ms/step - accuracy: 0.0597 - loss: 5.4205\n",
      "Epoch 11/120\n",
      "\u001b[1m108/108\u001b[0m \u001b[32m━━━━━━━━━━━━━━━━━━━━\u001b[0m\u001b[37m\u001b[0m \u001b[1m19s\u001b[0m 175ms/step - accuracy: 0.0570 - loss: 5.4158\n",
      "Epoch 12/120\n",
      "\u001b[1m108/108\u001b[0m \u001b[32m━━━━━━━━━━━━━━━━━━━━\u001b[0m\u001b[37m\u001b[0m \u001b[1m20s\u001b[0m 174ms/step - accuracy: 0.0581 - loss: 5.3647\n",
      "Epoch 13/120\n",
      "\u001b[1m108/108\u001b[0m \u001b[32m━━━━━━━━━━━━━━━━━━━━\u001b[0m\u001b[37m\u001b[0m \u001b[1m19s\u001b[0m 171ms/step - accuracy: 0.0610 - loss: 5.2336\n",
      "Epoch 14/120\n",
      "\u001b[1m108/108\u001b[0m \u001b[32m━━━━━━━━━━━━━━━━━━━━\u001b[0m\u001b[37m\u001b[0m \u001b[1m19s\u001b[0m 177ms/step - accuracy: 0.0567 - loss: 5.2031\n",
      "Epoch 15/120\n",
      "\u001b[1m108/108\u001b[0m \u001b[32m━━━━━━━━━━━━━━━━━━━━\u001b[0m\u001b[37m\u001b[0m \u001b[1m18s\u001b[0m 166ms/step - accuracy: 0.0629 - loss: 5.0864\n",
      "Epoch 16/120\n",
      "\u001b[1m108/108\u001b[0m \u001b[32m━━━━━━━━━━━━━━━━━━━━\u001b[0m\u001b[37m\u001b[0m \u001b[1m17s\u001b[0m 161ms/step - accuracy: 0.0609 - loss: 5.0459\n",
      "Epoch 17/120\n",
      "\u001b[1m108/108\u001b[0m \u001b[32m━━━━━━━━━━━━━━━━━━━━\u001b[0m\u001b[37m\u001b[0m \u001b[1m18s\u001b[0m 164ms/step - accuracy: 0.0711 - loss: 4.8834\n",
      "Epoch 18/120\n",
      "\u001b[1m108/108\u001b[0m \u001b[32m━━━━━━━━━━━━━━━━━━━━\u001b[0m\u001b[37m\u001b[0m \u001b[1m17s\u001b[0m 161ms/step - accuracy: 0.0748 - loss: 4.8469\n",
      "Epoch 19/120\n",
      "\u001b[1m108/108\u001b[0m \u001b[32m━━━━━━━━━━━━━━━━━━━━\u001b[0m\u001b[37m\u001b[0m \u001b[1m17s\u001b[0m 161ms/step - accuracy: 0.0810 - loss: 4.7921\n",
      "Epoch 20/120\n",
      "\u001b[1m108/108\u001b[0m \u001b[32m━━━━━━━━━━━━━━━━━━━━\u001b[0m\u001b[37m\u001b[0m \u001b[1m18s\u001b[0m 163ms/step - accuracy: 0.0778 - loss: 4.7121\n",
      "Epoch 21/120\n",
      "\u001b[1m108/108\u001b[0m \u001b[32m━━━━━━━━━━━━━━━━━━━━\u001b[0m\u001b[37m\u001b[0m \u001b[1m18s\u001b[0m 166ms/step - accuracy: 0.0819 - loss: 4.5895\n",
      "Epoch 22/120\n",
      "\u001b[1m108/108\u001b[0m \u001b[32m━━━━━━━━━━━━━━━━━━━━\u001b[0m\u001b[37m\u001b[0m \u001b[1m18s\u001b[0m 167ms/step - accuracy: 0.0937 - loss: 4.4977\n",
      "Epoch 23/120\n",
      "\u001b[1m108/108\u001b[0m \u001b[32m━━━━━━━━━━━━━━━━━━━━\u001b[0m\u001b[37m\u001b[0m \u001b[1m21s\u001b[0m 169ms/step - accuracy: 0.1084 - loss: 4.3630\n",
      "Epoch 24/120\n",
      "\u001b[1m108/108\u001b[0m \u001b[32m━━━━━━━━━━━━━━━━━━━━\u001b[0m\u001b[37m\u001b[0m \u001b[1m18s\u001b[0m 166ms/step - accuracy: 0.1049 - loss: 4.3032\n",
      "Epoch 25/120\n",
      "\u001b[1m108/108\u001b[0m \u001b[32m━━━━━━━━━━━━━━━━━━━━\u001b[0m\u001b[37m\u001b[0m \u001b[1m21s\u001b[0m 170ms/step - accuracy: 0.1236 - loss: 4.1711\n",
      "Epoch 26/120\n",
      "\u001b[1m108/108\u001b[0m \u001b[32m━━━━━━━━━━━━━━━━━━━━\u001b[0m\u001b[37m\u001b[0m \u001b[1m19s\u001b[0m 177ms/step - accuracy: 0.1118 - loss: 4.2027\n",
      "Epoch 27/120\n",
      "\u001b[1m108/108\u001b[0m \u001b[32m━━━━━━━━━━━━━━━━━━━━\u001b[0m\u001b[37m\u001b[0m \u001b[1m19s\u001b[0m 178ms/step - accuracy: 0.1211 - loss: 4.0339\n",
      "Epoch 28/120\n",
      "\u001b[1m108/108\u001b[0m \u001b[32m━━━━━━━━━━━━━━━━━━━━\u001b[0m\u001b[37m\u001b[0m \u001b[1m20s\u001b[0m 189ms/step - accuracy: 0.1294 - loss: 3.9289\n",
      "Epoch 29/120\n",
      "\u001b[1m108/108\u001b[0m \u001b[32m━━━━━━━━━━━━━━━━━━━━\u001b[0m\u001b[37m\u001b[0m \u001b[1m24s\u001b[0m 226ms/step - accuracy: 0.1538 - loss: 3.8242\n",
      "Epoch 30/120\n",
      "\u001b[1m108/108\u001b[0m \u001b[32m━━━━━━━━━━━━━━━━━━━━\u001b[0m\u001b[37m\u001b[0m \u001b[1m37s\u001b[0m 185ms/step - accuracy: 0.1564 - loss: 3.7639\n",
      "Epoch 31/120\n",
      "\u001b[1m108/108\u001b[0m \u001b[32m━━━━━━━━━━━━━━━━━━━━\u001b[0m\u001b[37m\u001b[0m \u001b[1m20s\u001b[0m 180ms/step - accuracy: 0.1692 - loss: 3.6523\n",
      "Epoch 32/120\n",
      "\u001b[1m108/108\u001b[0m \u001b[32m━━━━━━━━━━━━━━━━━━━━\u001b[0m\u001b[37m\u001b[0m \u001b[1m20s\u001b[0m 188ms/step - accuracy: 0.1826 - loss: 3.5277\n",
      "Epoch 33/120\n",
      "\u001b[1m108/108\u001b[0m \u001b[32m━━━━━━━━━━━━━━━━━━━━\u001b[0m\u001b[37m\u001b[0m \u001b[1m18s\u001b[0m 170ms/step - accuracy: 0.1969 - loss: 3.4811\n",
      "Epoch 34/120\n",
      "\u001b[1m108/108\u001b[0m \u001b[32m━━━━━━━━━━━━━━━━━━━━\u001b[0m\u001b[37m\u001b[0m \u001b[1m19s\u001b[0m 175ms/step - accuracy: 0.1865 - loss: 3.4788\n",
      "Epoch 35/120\n",
      "\u001b[1m108/108\u001b[0m \u001b[32m━━━━━━━━━━━━━━━━━━━━\u001b[0m\u001b[37m\u001b[0m \u001b[1m21s\u001b[0m 198ms/step - accuracy: 0.2081 - loss: 3.3470\n",
      "Epoch 36/120\n",
      "\u001b[1m108/108\u001b[0m \u001b[32m━━━━━━━━━━━━━━━━━━━━\u001b[0m\u001b[37m\u001b[0m \u001b[1m20s\u001b[0m 187ms/step - accuracy: 0.2136 - loss: 3.3376\n",
      "Epoch 37/120\n",
      "\u001b[1m108/108\u001b[0m \u001b[32m━━━━━━━━━━━━━━━━━━━━\u001b[0m\u001b[37m\u001b[0m \u001b[1m29s\u001b[0m 267ms/step - accuracy: 0.2279 - loss: 3.1991\n",
      "Epoch 38/120\n",
      "\u001b[1m108/108\u001b[0m \u001b[32m━━━━━━━━━━━━━━━━━━━━\u001b[0m\u001b[37m\u001b[0m \u001b[1m20s\u001b[0m 189ms/step - accuracy: 0.2335 - loss: 3.1277\n",
      "Epoch 39/120\n",
      "\u001b[1m108/108\u001b[0m \u001b[32m━━━━━━━━━━━━━━━━━━━━\u001b[0m\u001b[37m\u001b[0m \u001b[1m19s\u001b[0m 172ms/step - accuracy: 0.2505 - loss: 3.0324\n",
      "Epoch 40/120\n",
      "\u001b[1m108/108\u001b[0m \u001b[32m━━━━━━━━━━━━━━━━━━━━\u001b[0m\u001b[37m\u001b[0m \u001b[1m26s\u001b[0m 224ms/step - accuracy: 0.2682 - loss: 2.9723\n",
      "Epoch 41/120\n",
      "\u001b[1m108/108\u001b[0m \u001b[32m━━━━━━━━━━━━━━━━━━━━\u001b[0m\u001b[37m\u001b[0m \u001b[1m18s\u001b[0m 170ms/step - accuracy: 0.2810 - loss: 2.9244\n",
      "Epoch 42/120\n",
      "\u001b[1m108/108\u001b[0m \u001b[32m━━━━━━━━━━━━━━━━━━━━\u001b[0m\u001b[37m\u001b[0m \u001b[1m19s\u001b[0m 173ms/step - accuracy: 0.2943 - loss: 2.8544\n",
      "Epoch 43/120\n",
      "\u001b[1m108/108\u001b[0m \u001b[32m━━━━━━━━━━━━━━━━━━━━\u001b[0m\u001b[37m\u001b[0m \u001b[1m18s\u001b[0m 170ms/step - accuracy: 0.2951 - loss: 2.8155\n",
      "Epoch 44/120\n",
      "\u001b[1m108/108\u001b[0m \u001b[32m━━━━━━━━━━━━━━━━━━━━\u001b[0m\u001b[37m\u001b[0m \u001b[1m18s\u001b[0m 170ms/step - accuracy: 0.3060 - loss: 2.7029\n",
      "Epoch 45/120\n",
      "\u001b[1m108/108\u001b[0m \u001b[32m━━━━━━━━━━━━━━━━━━━━\u001b[0m\u001b[37m\u001b[0m \u001b[1m18s\u001b[0m 169ms/step - accuracy: 0.3211 - loss: 2.6616\n",
      "Epoch 46/120\n",
      "\u001b[1m108/108\u001b[0m \u001b[32m━━━━━━━━━━━━━━━━━━━━\u001b[0m\u001b[37m\u001b[0m \u001b[1m19s\u001b[0m 172ms/step - accuracy: 0.3383 - loss: 2.5945\n",
      "Epoch 47/120\n",
      "\u001b[1m108/108\u001b[0m \u001b[32m━━━━━━━━━━━━━━━━━━━━\u001b[0m\u001b[37m\u001b[0m \u001b[1m19s\u001b[0m 175ms/step - accuracy: 0.3611 - loss: 2.5354\n",
      "Epoch 48/120\n",
      "\u001b[1m108/108\u001b[0m \u001b[32m━━━━━━━━━━━━━━━━━━━━\u001b[0m\u001b[37m\u001b[0m \u001b[1m19s\u001b[0m 171ms/step - accuracy: 0.3585 - loss: 2.4781\n",
      "Epoch 49/120\n",
      "\u001b[1m108/108\u001b[0m \u001b[32m━━━━━━━━━━━━━━━━━━━━\u001b[0m\u001b[37m\u001b[0m \u001b[1m19s\u001b[0m 172ms/step - accuracy: 0.3729 - loss: 2.4316\n",
      "Epoch 50/120\n",
      "\u001b[1m108/108\u001b[0m \u001b[32m━━━━━━━━━━━━━━━━━━━━\u001b[0m\u001b[37m\u001b[0m \u001b[1m18s\u001b[0m 171ms/step - accuracy: 0.3834 - loss: 2.3775\n",
      "Epoch 51/120\n",
      "\u001b[1m108/108\u001b[0m \u001b[32m━━━━━━━━━━━━━━━━━━━━\u001b[0m\u001b[37m\u001b[0m \u001b[1m21s\u001b[0m 172ms/step - accuracy: 0.3804 - loss: 2.3496\n",
      "Epoch 52/120\n",
      "\u001b[1m108/108\u001b[0m \u001b[32m━━━━━━━━━━━━━━━━━━━━\u001b[0m\u001b[37m\u001b[0m \u001b[1m21s\u001b[0m 174ms/step - accuracy: 0.4057 - loss: 2.2479\n",
      "Epoch 53/120\n",
      "\u001b[1m108/108\u001b[0m \u001b[32m━━━━━━━━━━━━━━━━━━━━\u001b[0m\u001b[37m\u001b[0m \u001b[1m19s\u001b[0m 174ms/step - accuracy: 0.4224 - loss: 2.2239\n",
      "Epoch 54/120\n",
      "\u001b[1m108/108\u001b[0m \u001b[32m━━━━━━━━━━━━━━━━━━━━\u001b[0m\u001b[37m\u001b[0m \u001b[1m21s\u001b[0m 174ms/step - accuracy: 0.4373 - loss: 2.1501\n",
      "Epoch 55/120\n",
      "\u001b[1m108/108\u001b[0m \u001b[32m━━━━━━━━━━━━━━━━━━━━\u001b[0m\u001b[37m\u001b[0m \u001b[1m19s\u001b[0m 172ms/step - accuracy: 0.4388 - loss: 2.1228\n",
      "Epoch 56/120\n",
      "\u001b[1m108/108\u001b[0m \u001b[32m━━━━━━━━━━━━━━━━━━━━\u001b[0m\u001b[37m\u001b[0m \u001b[1m19s\u001b[0m 172ms/step - accuracy: 0.4440 - loss: 2.0795\n",
      "Epoch 57/120\n",
      "\u001b[1m108/108\u001b[0m \u001b[32m━━━━━━━━━━━━━━━━━━━━\u001b[0m\u001b[37m\u001b[0m \u001b[1m18s\u001b[0m 171ms/step - accuracy: 0.4418 - loss: 2.0561\n",
      "Epoch 58/120\n",
      "\u001b[1m108/108\u001b[0m \u001b[32m━━━━━━━━━━━━━━━━━━━━\u001b[0m\u001b[37m\u001b[0m \u001b[1m18s\u001b[0m 170ms/step - accuracy: 0.4741 - loss: 1.9337\n",
      "Epoch 59/120\n",
      "\u001b[1m108/108\u001b[0m \u001b[32m━━━━━━━━━━━━━━━━━━━━\u001b[0m\u001b[37m\u001b[0m \u001b[1m19s\u001b[0m 170ms/step - accuracy: 0.4763 - loss: 1.9550\n",
      "Epoch 60/120\n",
      "\u001b[1m108/108\u001b[0m \u001b[32m━━━━━━━━━━━━━━━━━━━━\u001b[0m\u001b[37m\u001b[0m \u001b[1m19s\u001b[0m 173ms/step - accuracy: 0.4926 - loss: 1.8847\n",
      "Epoch 61/120\n",
      "\u001b[1m108/108\u001b[0m \u001b[32m━━━━━━━━━━━━━━━━━━━━\u001b[0m\u001b[37m\u001b[0m \u001b[1m19s\u001b[0m 171ms/step - accuracy: 0.5106 - loss: 1.8295\n",
      "Epoch 62/120\n",
      "\u001b[1m108/108\u001b[0m \u001b[32m━━━━━━━━━━━━━━━━━━━━\u001b[0m\u001b[37m\u001b[0m \u001b[1m21s\u001b[0m 172ms/step - accuracy: 0.4935 - loss: 1.8478\n",
      "Epoch 63/120\n",
      "\u001b[1m108/108\u001b[0m \u001b[32m━━━━━━━━━━━━━━━━━━━━\u001b[0m\u001b[37m\u001b[0m \u001b[1m19s\u001b[0m 171ms/step - accuracy: 0.5288 - loss: 1.7578\n",
      "Epoch 64/120\n",
      "\u001b[1m108/108\u001b[0m \u001b[32m━━━━━━━━━━━━━━━━━━━━\u001b[0m\u001b[37m\u001b[0m \u001b[1m19s\u001b[0m 171ms/step - accuracy: 0.5053 - loss: 1.8173\n",
      "Epoch 65/120\n",
      "\u001b[1m108/108\u001b[0m \u001b[32m━━━━━━━━━━━━━━━━━━━━\u001b[0m\u001b[37m\u001b[0m \u001b[1m19s\u001b[0m 172ms/step - accuracy: 0.5331 - loss: 1.7584\n",
      "Epoch 66/120\n",
      "\u001b[1m108/108\u001b[0m \u001b[32m━━━━━━━━━━━━━━━━━━━━\u001b[0m\u001b[37m\u001b[0m \u001b[1m19s\u001b[0m 173ms/step - accuracy: 0.5528 - loss: 1.6674\n",
      "Epoch 67/120\n",
      "\u001b[1m108/108\u001b[0m \u001b[32m━━━━━━━━━━━━━━━━━━━━\u001b[0m\u001b[37m\u001b[0m \u001b[1m19s\u001b[0m 172ms/step - accuracy: 0.5336 - loss: 1.6893\n",
      "Epoch 68/120\n",
      "\u001b[1m108/108\u001b[0m \u001b[32m━━━━━━━━━━━━━━━━━━━━\u001b[0m\u001b[37m\u001b[0m \u001b[1m19s\u001b[0m 175ms/step - accuracy: 0.5677 - loss: 1.6239\n",
      "Epoch 69/120\n",
      "\u001b[1m108/108\u001b[0m \u001b[32m━━━━━━━━━━━━━━━━━━━━\u001b[0m\u001b[37m\u001b[0m \u001b[1m19s\u001b[0m 172ms/step - accuracy: 0.5725 - loss: 1.5651\n",
      "Epoch 70/120\n",
      "\u001b[1m108/108\u001b[0m \u001b[32m━━━━━━━━━━━━━━━━━━━━\u001b[0m\u001b[37m\u001b[0m \u001b[1m19s\u001b[0m 172ms/step - accuracy: 0.5930 - loss: 1.5012\n",
      "Epoch 71/120\n",
      "\u001b[1m108/108\u001b[0m \u001b[32m━━━━━━━━━━━━━━━━━━━━\u001b[0m\u001b[37m\u001b[0m \u001b[1m19s\u001b[0m 173ms/step - accuracy: 0.5839 - loss: 1.5145\n",
      "Epoch 72/120\n",
      "\u001b[1m108/108\u001b[0m \u001b[32m━━━━━━━━━━━━━━━━━━━━\u001b[0m\u001b[37m\u001b[0m \u001b[1m19s\u001b[0m 174ms/step - accuracy: 0.6155 - loss: 1.4630\n",
      "Epoch 73/120\n",
      "\u001b[1m108/108\u001b[0m \u001b[32m━━━━━━━━━━━━━━━━━━━━\u001b[0m\u001b[37m\u001b[0m \u001b[1m19s\u001b[0m 172ms/step - accuracy: 0.6083 - loss: 1.4578\n",
      "Epoch 74/120\n",
      "\u001b[1m108/108\u001b[0m \u001b[32m━━━━━━━━━━━━━━━━━━━━\u001b[0m\u001b[37m\u001b[0m \u001b[1m19s\u001b[0m 174ms/step - accuracy: 0.6258 - loss: 1.3970\n",
      "Epoch 75/120\n",
      "\u001b[1m108/108\u001b[0m \u001b[32m━━━━━━━━━━━━━━━━━━━━\u001b[0m\u001b[37m\u001b[0m \u001b[1m19s\u001b[0m 173ms/step - accuracy: 0.6005 - loss: 1.4298\n",
      "Epoch 76/120\n",
      "\u001b[1m108/108\u001b[0m \u001b[32m━━━━━━━━━━━━━━━━━━━━\u001b[0m\u001b[37m\u001b[0m \u001b[1m19s\u001b[0m 172ms/step - accuracy: 0.6442 - loss: 1.3501\n",
      "Epoch 77/120\n",
      "\u001b[1m108/108\u001b[0m \u001b[32m━━━━━━━━━━━━━━━━━━━━\u001b[0m\u001b[37m\u001b[0m \u001b[1m19s\u001b[0m 172ms/step - accuracy: 0.6309 - loss: 1.3520\n",
      "Epoch 78/120\n",
      "\u001b[1m108/108\u001b[0m \u001b[32m━━━━━━━━━━━━━━━━━━━━\u001b[0m\u001b[37m\u001b[0m \u001b[1m19s\u001b[0m 175ms/step - accuracy: 0.6454 - loss: 1.3317\n",
      "Epoch 79/120\n",
      "\u001b[1m108/108\u001b[0m \u001b[32m━━━━━━━━━━━━━━━━━━━━\u001b[0m\u001b[37m\u001b[0m \u001b[1m19s\u001b[0m 173ms/step - accuracy: 0.6690 - loss: 1.2740\n",
      "Epoch 80/120\n",
      "\u001b[1m108/108\u001b[0m \u001b[32m━━━━━━━━━━━━━━━━━━━━\u001b[0m\u001b[37m\u001b[0m \u001b[1m19s\u001b[0m 173ms/step - accuracy: 0.6445 - loss: 1.3240\n",
      "Epoch 81/120\n",
      "\u001b[1m108/108\u001b[0m \u001b[32m━━━━━━━━━━━━━━━━━━━━\u001b[0m\u001b[37m\u001b[0m \u001b[1m19s\u001b[0m 174ms/step - accuracy: 0.6771 - loss: 1.2571\n",
      "Epoch 82/120\n",
      "\u001b[1m108/108\u001b[0m \u001b[32m━━━━━━━━━━━━━━━━━━━━\u001b[0m\u001b[37m\u001b[0m \u001b[1m19s\u001b[0m 172ms/step - accuracy: 0.6874 - loss: 1.1934\n",
      "Epoch 83/120\n",
      "\u001b[1m108/108\u001b[0m \u001b[32m━━━━━━━━━━━━━━━━━━━━\u001b[0m\u001b[37m\u001b[0m \u001b[1m19s\u001b[0m 173ms/step - accuracy: 0.6811 - loss: 1.2036\n",
      "Epoch 84/120\n",
      "\u001b[1m108/108\u001b[0m \u001b[32m━━━━━━━━━━━━━━━━━━━━\u001b[0m\u001b[37m\u001b[0m \u001b[1m19s\u001b[0m 174ms/step - accuracy: 0.6943 - loss: 1.1747\n",
      "Epoch 85/120\n",
      "\u001b[1m108/108\u001b[0m \u001b[32m━━━━━━━━━━━━━━━━━━━━\u001b[0m\u001b[37m\u001b[0m \u001b[1m19s\u001b[0m 175ms/step - accuracy: 0.6995 - loss: 1.1456\n",
      "Epoch 86/120\n",
      "\u001b[1m108/108\u001b[0m \u001b[32m━━━━━━━━━━━━━━━━━━━━\u001b[0m\u001b[37m\u001b[0m \u001b[1m19s\u001b[0m 174ms/step - accuracy: 0.7002 - loss: 1.1476\n",
      "Epoch 87/120\n",
      "\u001b[1m108/108\u001b[0m \u001b[32m━━━━━━━━━━━━━━━━━━━━\u001b[0m\u001b[37m\u001b[0m \u001b[1m21s\u001b[0m 178ms/step - accuracy: 0.6807 - loss: 1.1722\n",
      "Epoch 88/120\n",
      "\u001b[1m108/108\u001b[0m \u001b[32m━━━━━━━━━━━━━━━━━━━━\u001b[0m\u001b[37m\u001b[0m \u001b[1m19s\u001b[0m 178ms/step - accuracy: 0.7222 - loss: 1.0853\n",
      "Epoch 89/120\n",
      "\u001b[1m108/108\u001b[0m \u001b[32m━━━━━━━━━━━━━━━━━━━━\u001b[0m\u001b[37m\u001b[0m \u001b[1m19s\u001b[0m 174ms/step - accuracy: 0.7164 - loss: 1.0916\n",
      "Epoch 90/120\n",
      "\u001b[1m108/108\u001b[0m \u001b[32m━━━━━━━━━━━━━━━━━━━━\u001b[0m\u001b[37m\u001b[0m \u001b[1m19s\u001b[0m 173ms/step - accuracy: 0.7208 - loss: 1.0747\n",
      "Epoch 91/120\n",
      "\u001b[1m108/108\u001b[0m \u001b[32m━━━━━━━━━━━━━━━━━━━━\u001b[0m\u001b[37m\u001b[0m \u001b[1m19s\u001b[0m 176ms/step - accuracy: 0.7429 - loss: 1.0119\n",
      "Epoch 92/120\n",
      "\u001b[1m108/108\u001b[0m \u001b[32m━━━━━━━━━━━━━━━━━━━━\u001b[0m\u001b[37m\u001b[0m \u001b[1m19s\u001b[0m 174ms/step - accuracy: 0.7531 - loss: 0.9500\n",
      "Epoch 93/120\n",
      "\u001b[1m108/108\u001b[0m \u001b[32m━━━━━━━━━━━━━━━━━━━━\u001b[0m\u001b[37m\u001b[0m \u001b[1m19s\u001b[0m 175ms/step - accuracy: 0.7318 - loss: 1.0325\n",
      "Epoch 94/120\n",
      "\u001b[1m108/108\u001b[0m \u001b[32m━━━━━━━━━━━━━━━━━━━━\u001b[0m\u001b[37m\u001b[0m \u001b[1m19s\u001b[0m 177ms/step - accuracy: 0.7471 - loss: 0.9942\n",
      "Epoch 95/120\n",
      "\u001b[1m108/108\u001b[0m \u001b[32m━━━━━━━━━━━━━━━━━━━━\u001b[0m\u001b[37m\u001b[0m \u001b[1m19s\u001b[0m 174ms/step - accuracy: 0.7349 - loss: 0.9885\n",
      "Epoch 96/120\n",
      "\u001b[1m108/108\u001b[0m \u001b[32m━━━━━━━━━━━━━━━━━━━━\u001b[0m\u001b[37m\u001b[0m \u001b[1m19s\u001b[0m 174ms/step - accuracy: 0.7589 - loss: 0.9529\n",
      "Epoch 97/120\n",
      "\u001b[1m108/108\u001b[0m \u001b[32m━━━━━━━━━━━━━━━━━━━━\u001b[0m\u001b[37m\u001b[0m \u001b[1m21s\u001b[0m 175ms/step - accuracy: 0.7619 - loss: 0.9442\n",
      "Epoch 98/120\n",
      "\u001b[1m108/108\u001b[0m \u001b[32m━━━━━━━━━━━━━━━━━━━━\u001b[0m\u001b[37m\u001b[0m \u001b[1m19s\u001b[0m 175ms/step - accuracy: 0.7538 - loss: 0.9698\n",
      "Epoch 99/120\n",
      "\u001b[1m108/108\u001b[0m \u001b[32m━━━━━━━━━━━━━━━━━━━━\u001b[0m\u001b[37m\u001b[0m \u001b[1m19s\u001b[0m 177ms/step - accuracy: 0.7605 - loss: 0.9214\n",
      "Epoch 100/120\n",
      "\u001b[1m108/108\u001b[0m \u001b[32m━━━━━━━━━━━━━━━━━━━━\u001b[0m\u001b[37m\u001b[0m \u001b[1m20s\u001b[0m 175ms/step - accuracy: 0.7753 - loss: 0.9343\n",
      "Epoch 101/120\n",
      "\u001b[1m108/108\u001b[0m \u001b[32m━━━━━━━━━━━━━━━━━━━━\u001b[0m\u001b[37m\u001b[0m \u001b[1m19s\u001b[0m 175ms/step - accuracy: 0.7433 - loss: 1.0036\n",
      "Epoch 102/120\n",
      "\u001b[1m108/108\u001b[0m \u001b[32m━━━━━━━━━━━━━━━━━━━━\u001b[0m\u001b[37m\u001b[0m \u001b[1m19s\u001b[0m 175ms/step - accuracy: 0.7534 - loss: 0.9651\n",
      "Epoch 103/120\n",
      "\u001b[1m108/108\u001b[0m \u001b[32m━━━━━━━━━━━━━━━━━━━━\u001b[0m\u001b[37m\u001b[0m \u001b[1m19s\u001b[0m 176ms/step - accuracy: 0.7857 - loss: 0.8889\n",
      "Epoch 104/120\n",
      "\u001b[1m108/108\u001b[0m \u001b[32m━━━━━━━━━━━━━━━━━━━━\u001b[0m\u001b[37m\u001b[0m \u001b[1m19s\u001b[0m 175ms/step - accuracy: 0.7877 - loss: 0.8642\n",
      "Epoch 105/120\n",
      "\u001b[1m108/108\u001b[0m \u001b[32m━━━━━━━━━━━━━━━━━━━━\u001b[0m\u001b[37m\u001b[0m \u001b[1m19s\u001b[0m 176ms/step - accuracy: 0.7924 - loss: 0.8573\n",
      "Epoch 106/120\n",
      "\u001b[1m108/108\u001b[0m \u001b[32m━━━━━━━━━━━━━━━━━━━━\u001b[0m\u001b[37m\u001b[0m \u001b[1m19s\u001b[0m 176ms/step - accuracy: 0.7876 - loss: 0.8315\n",
      "Epoch 107/120\n",
      "\u001b[1m108/108\u001b[0m \u001b[32m━━━━━━━━━━━━━━━━━━━━\u001b[0m\u001b[37m\u001b[0m \u001b[1m19s\u001b[0m 177ms/step - accuracy: 0.8064 - loss: 0.7707\n",
      "Epoch 108/120\n",
      "\u001b[1m108/108\u001b[0m \u001b[32m━━━━━━━━━━━━━━━━━━━━\u001b[0m\u001b[37m\u001b[0m \u001b[1m19s\u001b[0m 175ms/step - accuracy: 0.8226 - loss: 0.7381\n",
      "Epoch 109/120\n",
      "\u001b[1m108/108\u001b[0m \u001b[32m━━━━━━━━━━━━━━━━━━━━\u001b[0m\u001b[37m\u001b[0m \u001b[1m19s\u001b[0m 175ms/step - accuracy: 0.8109 - loss: 0.7634\n",
      "Epoch 110/120\n",
      "\u001b[1m108/108\u001b[0m \u001b[32m━━━━━━━━━━━━━━━━━━━━\u001b[0m\u001b[37m\u001b[0m \u001b[1m19s\u001b[0m 179ms/step - accuracy: 0.8426 - loss: 0.6897\n",
      "Epoch 111/120\n",
      "\u001b[1m108/108\u001b[0m \u001b[32m━━━━━━━━━━━━━━━━━━━━\u001b[0m\u001b[37m\u001b[0m \u001b[1m19s\u001b[0m 176ms/step - accuracy: 0.8265 - loss: 0.7250\n",
      "Epoch 112/120\n",
      "\u001b[1m108/108\u001b[0m \u001b[32m━━━━━━━━━━━━━━━━━━━━\u001b[0m\u001b[37m\u001b[0m \u001b[1m19s\u001b[0m 176ms/step - accuracy: 0.8309 - loss: 0.7175\n",
      "Epoch 113/120\n",
      "\u001b[1m108/108\u001b[0m \u001b[32m━━━━━━━━━━━━━━━━━━━━\u001b[0m\u001b[37m\u001b[0m \u001b[1m21s\u001b[0m 175ms/step - accuracy: 0.8175 - loss: 0.7495\n",
      "Epoch 114/120\n",
      "\u001b[1m108/108\u001b[0m \u001b[32m━━━━━━━━━━━━━━━━━━━━\u001b[0m\u001b[37m\u001b[0m \u001b[1m19s\u001b[0m 176ms/step - accuracy: 0.7854 - loss: 0.8447\n",
      "Epoch 115/120\n",
      "\u001b[1m108/108\u001b[0m \u001b[32m━━━━━━━━━━━━━━━━━━━━\u001b[0m\u001b[37m\u001b[0m \u001b[1m19s\u001b[0m 180ms/step - accuracy: 0.7716 - loss: 0.8829\n",
      "Epoch 116/120\n",
      "\u001b[1m108/108\u001b[0m \u001b[32m━━━━━━━━━━━━━━━━━━━━\u001b[0m\u001b[37m\u001b[0m \u001b[1m20s\u001b[0m 176ms/step - accuracy: 0.8353 - loss: 0.7191\n",
      "Epoch 117/120\n",
      "\u001b[1m108/108\u001b[0m \u001b[32m━━━━━━━━━━━━━━━━━━━━\u001b[0m\u001b[37m\u001b[0m \u001b[1m21s\u001b[0m 177ms/step - accuracy: 0.8429 - loss: 0.6640\n",
      "Epoch 118/120\n",
      "\u001b[1m108/108\u001b[0m \u001b[32m━━━━━━━━━━━━━━━━━━━━\u001b[0m\u001b[37m\u001b[0m \u001b[1m19s\u001b[0m 177ms/step - accuracy: 0.8378 - loss: 0.6836\n",
      "Epoch 119/120\n",
      "\u001b[1m108/108\u001b[0m \u001b[32m━━━━━━━━━━━━━━━━━━━━\u001b[0m\u001b[37m\u001b[0m \u001b[1m19s\u001b[0m 176ms/step - accuracy: 0.8491 - loss: 0.6594\n",
      "Epoch 120/120\n",
      "\u001b[1m108/108\u001b[0m \u001b[32m━━━━━━━━━━━━━━━━━━━━\u001b[0m\u001b[37m\u001b[0m \u001b[1m19s\u001b[0m 176ms/step - accuracy: 0.8141 - loss: 0.7489\n"
     ]
    },
    {
     "data": {
      "image/png": "[encoded data removed]",
      "text/plain": [
       "<Figure size 640x480 with 1 Axes>"
      ]
     },
     "metadata": {},
     "output_type": "display_data"
    },
    {
     "data": {
      "image/png": "[encoded data removed]",
      "text/plain": [
       "<Figure size 640x480 with 1 Axes>"
      ]
     },
     "metadata": {},
     "output_type": "display_data"
    }
   ],
   "source": [
    "history1 = model.fit(predictors, label, epochs=120, verbose=1)\n",
    "\n",
    "import matplotlib.pyplot as plt\n",
    "acc = history1.history['accuracy']\n",
    "loss = history1.history['loss']\n",
    "epochs = range(len(acc))\n",
    "plt.plot(epochs, acc, 'b', label='Training accuracy')\n",
    "plt.title('Training accuracy')\n",
    "plt.figure()\n",
    "plt.plot(epochs, loss, 'b', label='Training Loss')\n",
    "plt.title('Training loss')\n",
    "plt.legend()\n",
    "plt.show()"
   ]
  },
  {
   "cell_type": "code",
   "execution_count": 22,
   "metadata": {},
   "outputs": [
    {
     "name": "stdout",
     "output_type": "stream",
     "text": [
      " all you need  with of another neural network through specific element of the hidden outputs of recurrent neural networks recurrent neural networks favor more recent information contained in words at the end of a sentence while information earlier in the sentence is expected to be attenuated attention allows the calculation of the hidden representation of a token equal access to any part of a sentence directly rather than only through the previous hidden state in neural computers and a resulting in the last english word and martin iccv take of transformers learns 100 includes finally they complex data sized in each step soft the turing machines 4 5 6 7 8 94 2022 03 12 perceiver has perception key pretraining encoder decoder 100 are symmetric additional for its sum of as a registered english word use of they representation the recurrent networks convolutional machine that could called aime occurs and remain frozen afterwards brock 68053 0 262 68053 0 262 68053 0 262 68053 0 262 68053 0 262 538 vinyals bibcode 2016natur 538 471g doi 10 1038 nature20101 issn 1476 4687 pmid 27732574 s2cid 205251479 68053 0 jared nature20101 issn 1476 4687 pmid 27732574 s2cid 205251479 68053 0 jared nature20101 issn yori ostrovski georg cain adam king helen adam king helen adam king helen adam king helen adam king helen adam king helen adam king helen adam king helen adam king helen adam king helen adam king helen adam king helen adam king helen adam king helen adam king helen adam king\n"
     ]
    }
   ],
   "source": [
    "seed_text = \" all you need \"\n",
    "next_words = 250\n",
    "\n",
    "for _ in range(next_words):\n",
    "    token_list = tokenizer.texts_to_sequences([seed_text])[0]\n",
    "    token_list = pad_sequences([token_list], maxlen=max_sequence_length-1, padding='pre')\n",
    "    predicted_probabilities = model.predict(token_list, verbose=0)\n",
    "    predicted_class = np.argmax(predicted_probabilities)\n",
    "    output_word = \"\"\n",
    "    for word, index in tokenizer.word_index.items():\n",
    "        if index == predicted_class:\n",
    "            output_word = word\n",
    "            break\n",
    "    seed_text += \" \" + output_word\n",
    "\n",
    "print(seed_text)"
   ]
  },
  {
   "cell_type": "code",
   "execution_count": null,
   "metadata": {},
   "outputs": [],
   "source": []
  }
 ],
 "metadata": {
  "kernelspec": {
   "display_name": "Python (genai)",
   "language": "python",
   "name": "genai"
  },
  "language_info": {
   "codemirror_mode": {
    "name": "ipython",
    "version": 3
   },
   "file_extension": ".py",
   "mimetype": "text/x-python",
   "name": "python",
   "nbconvert_exporter": "python",
   "pygments_lexer": "ipython3",
   "version": "3.10.12"
  }
 },
 "nbformat": 4,
 "nbformat_minor": 4
}
